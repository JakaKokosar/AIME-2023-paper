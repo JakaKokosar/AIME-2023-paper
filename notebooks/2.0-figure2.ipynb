{
 "cells": [
  {
   "cell_type": "markdown",
   "metadata": {},
   "source": [
    "# Figure 2: Robustness of the method"
   ]
  },
  {
   "cell_type": "code",
   "execution_count": 1,
   "metadata": {},
   "outputs": [],
   "source": [
    "import numpy as np\n",
    "import pandas as pd\n",
    "import matplotlib.pyplot as plt\n",
    "from lifelines import statistics\n",
    "from  tqdm import tqdm\n",
    "import scipy.stats as ss\n",
    "from single_sample_gsea import ss_gsea as ssGSEA\n",
    "from matplotlib.colors import to_rgb\n",
    "\n",
    "import os\n",
    "import sys\n",
    "sys.path.append(os.path.dirname(os.path.dirname(os.path.abspath(\"__file__\"))))\n",
    "from calculate_ssGSEA_scores import get_hallmark_genesets"
   ]
  },
  {
   "cell_type": "code",
   "execution_count": 2,
   "metadata": {},
   "outputs": [],
   "source": [
    "PROJECT = \"HNSC\"\n",
    "\n",
    "expressions = pd.read_csv(f\"../TCGA/TCGA-{PROJECT}-expressions.tsv\", sep=\"\\t\", index_col=[0])\n",
    "expressions.index.name = \"gene\"\n",
    "ssgsea = pd.read_csv(f\"../TCGA/TCGA-{PROJECT}-ssGSEA.tsv\", sep=\"\\t\", index_col=[0])\n",
    "metadata = pd.read_csv(f\"../TCGA/TCGA-{PROJECT}-metadata.tsv\", sep=\"\\t\", index_col=[0])"
   ]
  },
  {
   "cell_type": "markdown",
   "metadata": {},
   "source": [
    "### Functions"
   ]
  },
  {
   "cell_type": "code",
   "execution_count": 19,
   "metadata": {},
   "outputs": [],
   "source": [
    "def normalize(expressions):\n",
    "    exp = np.log(expressions.T + 1)\n",
    "    exp = (exp - exp.mean(axis=0)) / exp.std(axis=0)\n",
    "    exp = exp.dropna(axis=1)\n",
    "    exp = exp.fillna(0)\n",
    "    return exp.T\n",
    "\n",
    "def calculate_ssGSEA(expressions, genesets):\n",
    "    exp = expressions.copy()\n",
    "    exp = normalize(exp)\n",
    "    return ssGSEA(exp, genesets)"
   ]
  },
  {
   "cell_type": "code",
   "execution_count": 4,
   "metadata": {},
   "outputs": [],
   "source": [
    "def bootstrap_logrank_values(ssgsea, metadata, M_BOOTSTRAP, geneset, seed=0, fraction_of_samples=1):\n",
    "    np.random.seed(seed)\n",
    "\n",
    "    s = ssgsea[geneset].to_frame()\n",
    "    m = metadata.loc[s.index.values]\n",
    "\n",
    "    bootstrap_values = []\n",
    "\n",
    "    for _ in tqdm(range(M_BOOTSTRAP)):\n",
    "\n",
    "        ids = np.random.choice(np.arange(len(s)), size=int(len(s)*fraction_of_samples), replace=True)\n",
    "        s_boot = s.iloc[ids]\n",
    "        m_boot = m.iloc[ids]\n",
    "\n",
    "        up_ids = s_boot[geneset] > np.median(ssgsea[geneset])\n",
    "        up_score = m_boot.loc[up_ids]\n",
    "        down_score = m_boot.loc[~up_ids]\n",
    "\n",
    "        bootstrap_values += [\n",
    "            statistics.logrank_test(\n",
    "                up_score[\"time\"], down_score[\"time\"],\n",
    "                event_observed_A=up_score[\"event\"], event_observed_B=down_score[\"event\"]\n",
    "            )\n",
    "        ]\n",
    "    \n",
    "    return bootstrap_values\n",
    "\n",
    "def bootstrap_CI(ssgsea, metadata, M_BOOTSTRAP, geneset, seed=0):\n",
    "\n",
    "    bootstrap_values = bootstrap_logrank_values(ssgsea, metadata, M_BOOTSTRAP, geneset, seed)\n",
    "\n",
    "    return np.percentile(bootstrap_values, 2.5), np.percentile(bootstrap_values, 97.5)"
   ]
  },
  {
   "cell_type": "code",
   "execution_count": 5,
   "metadata": {},
   "outputs": [],
   "source": [
    "def downsample_and_evaluate(ssgsea, metadata, geneset, fraction=1):\n",
    "\n",
    "    s = ssgsea[geneset].to_frame().sample(int(len(ssgsea)*fraction))\n",
    "    m = metadata.loc[s.index.values]\n",
    "\n",
    "    up_ids = s[geneset] > np.median(s[geneset])\n",
    "    up_score = m.loc[up_ids]\n",
    "    down_score = m.loc[~up_ids]\n",
    "\n",
    "    return statistics.logrank_test(\n",
    "        up_score[\"time\"], down_score[\"time\"],\n",
    "        event_observed_A=up_score[\"event\"], event_observed_B=down_score[\"event\"]\n",
    "    )\n",
    "\n",
    "def downsampled_geneset(geneset_genes, n_genes):\n",
    "    return np.random.choice(geneset_genes, size=min(n_genes, len(geneset_genes)), replace=False)\n",
    "\n",
    "def replace_genes_in_geneset(complete_geneset, all_genes, n_genes_in):\n",
    "\n",
    "    np.random.shuffle(complete_geneset)\n",
    "    LEN = len(complete_geneset)\n",
    "    still_in_geneset = list(complete_geneset[:min(n_genes_in, LEN)])\n",
    "\n",
    "    rest_genes = list(np.random.choice(list(set(all_genes).difference(still_in_geneset)), size=LEN-len(still_in_geneset), replace=False))\n",
    "\n",
    "    return still_in_geneset + rest_genes\n"
   ]
  },
  {
   "cell_type": "markdown",
   "metadata": {},
   "source": [
    "## Generating data"
   ]
  },
  {
   "cell_type": "code",
   "execution_count": 31,
   "metadata": {},
   "outputs": [],
   "source": [
    "def downsample_and_evaluate(ssgsea, metadata, geneset, fraction=1):\n",
    "\n",
    "    s = ssgsea[geneset].to_frame().sample(int(len(ssgsea)*fraction))\n",
    "    m = metadata.loc[s.index.values]\n",
    "\n",
    "    up_ids = s[geneset] > np.median(s[geneset])\n",
    "    up_score = m.loc[up_ids]\n",
    "    down_score = m.loc[~up_ids]\n",
    "\n",
    "    return statistics.logrank_test(\n",
    "        up_score[\"time\"], down_score[\"time\"],\n",
    "        event_observed_A=up_score[\"event\"], event_observed_B=down_score[\"event\"]\n",
    "    )\n",
    "\n",
    "def downsampled_geneset(geneset_genes, n_genes):\n",
    "    return np.random.choice(geneset_genes, size=min(n_genes, len(geneset_genes)), replace=False)\n",
    "\n",
    "def replace_genes_in_geneset(complete_geneset, all_genes, n_genes_in):\n",
    "\n",
    "    np.random.shuffle(complete_geneset)\n",
    "    LEN = len(complete_geneset)\n",
    "    still_in_geneset = list(complete_geneset[:min(n_genes_in, LEN)])\n",
    "\n",
    "    rest_genes = list(np.random.choice(list(set(all_genes).difference(still_in_geneset)), size=LEN-len(still_in_geneset), replace=False))\n",
    "\n",
    "    return still_in_geneset + rest_genes\n"
   ]
  },
  {
   "cell_type": "code",
   "execution_count": 32,
   "metadata": {},
   "outputs": [],
   "source": [
    "# PARAMETERS\n",
    "testing_geneset = \"HALLMARK_GLYCOLYSIS\"\n",
    "\n",
    "M_BOOTSTRAP = 1000\n",
    "NORMALIZE = True"
   ]
  },
  {
   "cell_type": "code",
   "execution_count": 33,
   "metadata": {},
   "outputs": [],
   "source": [
    "# create genesets\n",
    "np.random.seed(1)\n",
    "\n",
    "hallmark_genesets = get_hallmark_genesets(expressions.index.values, \"..\")"
   ]
  },
  {
   "cell_type": "code",
   "execution_count": 34,
   "metadata": {},
   "outputs": [],
   "source": [
    "complete_geneset = list(hallmark_genesets[testing_geneset])\n",
    "np.random.shuffle(complete_geneset)\n",
    "\n",
    "STEP = int(len(complete_geneset)//5)\n",
    "\n",
    "GENESETS = {}\n",
    "\n",
    "for i in range(6):\n",
    "    genes = complete_geneset[:STEP*i] if i != 5 else complete_geneset\n",
    "    random_genes = np.random.choice(expressions.index.values, STEP*(5-i), replace=False)\n",
    "    GENESETS[f\"random_{100 - 20*i}\"] = set(list(genes) + list(random_genes))"
   ]
  },
  {
   "cell_type": "code",
   "execution_count": 35,
   "metadata": {},
   "outputs": [],
   "source": [
    "# calculate ssGSEA\n",
    "ssgsea = calculate_ssGSEA(expressions, GENESETS)"
   ]
  },
  {
   "cell_type": "code",
   "execution_count": 36,
   "metadata": {},
   "outputs": [
    {
     "name": "stderr",
     "output_type": "stream",
     "text": [
      "100%|██████████| 1000/1000 [00:55<00:00, 17.94it/s]\n",
      "100%|██████████| 1000/1000 [00:51<00:00, 19.49it/s]\n",
      "100%|██████████| 1000/1000 [01:03<00:00, 15.64it/s]\n",
      "100%|██████████| 1000/1000 [00:50<00:00, 19.67it/s]\n",
      "100%|██████████| 1000/1000 [00:50<00:00, 19.83it/s]\n",
      "100%|██████████| 1/1 [00:00<00:00, 16.79it/s]\n"
     ]
    }
   ],
   "source": [
    "# values for plotting\n",
    "\n",
    "geneset_bootstrap_values = {\n",
    "    geneset: bootstrap_logrank_values(ssgsea, metadata, M_BOOTSTRAP if geneset != \"random_0\" else 1, geneset, 0)\n",
    "    for geneset in GENESETS.keys()\n",
    "}"
   ]
  },
  {
   "cell_type": "code",
   "execution_count": 37,
   "metadata": {},
   "outputs": [],
   "source": [
    "### SAMPLE DOWNSAMPLING\n",
    "M_DOWNSAMPLE = 100\n",
    "\n",
    "downsample_bootstrap_values = {\n",
    "    frac: [downsample_and_evaluate(ssgsea, metadata, \"random_0\", fraction=frac/100) for _ in range(M_DOWNSAMPLE)]\n",
    "    for frac in [50, 60, 70, 80, 90, 100] \n",
    "}\n",
    "downsample_stats = {\n",
    "    frac: [x.test_statistic for x in values]\n",
    "    for frac, values in downsample_bootstrap_values.items()\n",
    "}"
   ]
  },
  {
   "cell_type": "code",
   "execution_count": 39,
   "metadata": {},
   "outputs": [],
   "source": [
    "## SAMPLE DOWNSAMPLING\n",
    "M_DOWNSAMPLE_SETS = 30\n",
    "\n",
    "complete_geneset = list(hallmark_genesets[testing_geneset])\n",
    "N = 200\n",
    "down_genes = [40*(i+1) for i in range(4)]\n",
    "\n",
    "GENESETS = {\"geneset_200_0\": complete_geneset}\n",
    "\n",
    "for n_genes in down_genes:\n",
    "    for i in range(M_DOWNSAMPLE_SETS):\n",
    "        GENESETS[f\"geneset_{n_genes}_{i}\"] = downsampled_geneset(complete_geneset, n_genes=n_genes)\n",
    "    \n",
    "down_ssgsea = calculate_ssGSEA(expressions, GENESETS)"
   ]
  },
  {
   "cell_type": "code",
   "execution_count": 40,
   "metadata": {},
   "outputs": [],
   "source": [
    "downgene_bootstrap_values = {\n",
    "    geneset: downsample_and_evaluate(down_ssgsea, metadata, geneset, fraction=1)\n",
    "    for geneset in GENESETS.keys()\n",
    "}\n",
    "\n",
    "downgene_stats = {x: [] for x in down_genes + [200]}\n",
    "\n",
    "for key, value in downgene_bootstrap_values.items():\n",
    "    downgene_stats[int(key.split(\"_\")[1])] += [value.test_statistic]\n"
   ]
  },
  {
   "cell_type": "code",
   "execution_count": 42,
   "metadata": {},
   "outputs": [],
   "source": [
    "## RANDOM GENE REPLACEMENT\n",
    "M_RANDOM_GENES = 100\n",
    "\n",
    "complete_geneset = list(hallmark_genesets[testing_geneset])\n",
    "N = 200\n",
    "down_genes = [40*(i) for i in range(5)]\n",
    "\n",
    "GENESETS = {\"geneset_200_0\": complete_geneset}\n",
    "\n",
    "for n_genes in down_genes:\n",
    "    for i in range(M_DOWNSAMPLE_SETS):\n",
    "        GENESETS[f\"geneset_{n_genes}_{i}\"] = replace_genes_in_geneset(complete_geneset, expressions.index.values, n_genes_in=n_genes)\n",
    "    \n",
    "down_ssgsea = calculate_ssGSEA(expressions, GENESETS)"
   ]
  },
  {
   "cell_type": "code",
   "execution_count": 43,
   "metadata": {},
   "outputs": [],
   "source": [
    "replace_bootstrap_values = {\n",
    "    geneset: downsample_and_evaluate(down_ssgsea, metadata, geneset, fraction=1)\n",
    "    for geneset in GENESETS.keys()\n",
    "}\n",
    "\n",
    "replace_stats = {x: [] for x in down_genes + [200]}\n",
    "\n",
    "for key, value in replace_bootstrap_values.items():\n",
    "    replace_stats[int(key.split(\"_\")[1])] += [value.test_statistic]"
   ]
  },
  {
   "cell_type": "markdown",
   "metadata": {},
   "source": [
    "## Plotting"
   ]
  },
  {
   "cell_type": "markdown",
   "metadata": {},
   "source": [
    "### Plotting functions"
   ]
  },
  {
   "cell_type": "code",
   "execution_count": 44,
   "metadata": {},
   "outputs": [],
   "source": [
    "def plot_random_genes(replace_stats, ax, labels_fontsize=11):\n",
    "\n",
    "    for frac, values in replace_stats.items():\n",
    "        \n",
    "        c = to_rgb(\"k\") + (0.8, )\n",
    "        ax.scatter([100-frac/2], np.median(values), color=\"orangered\" if frac==200 else c, zorder=2, s=20, label=None if frac != 0 else \"median\")\n",
    "        ax.plot([100-frac/2, 100-frac/2], [np.percentile(values, 2.5), np.percentile(values, 97.5)], zorder=3, color=c, lw=2, label=None if frac != 0 else \"95% CI\")\n",
    "    \n",
    "    ax.set_xlabel(\"% of random genes in a geneset\", fontsize=labels_fontsize)\n",
    "    ax.legend(frameon=False, fontsize=labels_fontsize, labelspacing=0.25, borderpad=0)\n",
    "\n",
    "\n",
    "def plot_downsample(dowsample_stats, ax, labels_fontsize=11):\n",
    "\n",
    "    for frac, values in dowsample_stats.items():\n",
    "\n",
    "        c = to_rgb(\"k\") + (0.8, )\n",
    "        ax.scatter([frac], np.median(values), color=\"orangered\" if frac==100 else c, zorder=2, s=20)\n",
    "        ax.plot([frac, frac], [np.percentile(values, 2.5), np.percentile(values, 97.5)], zorder=3, color=c, lw=2)\n",
    "\n",
    "    ax.set_xlabel(\"% of samples in a dataset\", fontsize=labels_fontsize)\n",
    "\n",
    "def plot_downgene(downgene_stats, ax, labels_fontsize=11):\n",
    "\n",
    "    for frac, values in downgene_stats.items():\n",
    "\n",
    "        c = to_rgb(\"k\") + (0.8, )\n",
    "        ax.scatter([frac], np.median(values), color=\"orangered\" if frac==200 else c, zorder=2, s=20)\n",
    "        ax.plot([frac, frac], [np.percentile(values, 2.5), np.percentile(values, 97.5)], zorder=3, color=c, lw=2)\n",
    "\n",
    "    ax.set_xlabel(\"no. of genes in a geneset\", fontsize=labels_fontsize)"
   ]
  },
  {
   "cell_type": "code",
   "execution_count": 45,
   "metadata": {},
   "outputs": [
    {
     "data": {
      "image/png": "[encoded data removed]",
      "text/plain": [
       "<Figure size 800x200 with 3 Axes>"
      ]
     },
     "metadata": {},
     "output_type": "display_data"
    }
   ],
   "source": [
    "try:\n",
    "    plt.rcParams[\"font.family\"] = \"Times New Roman\"\n",
    "except Exception as e:\n",
    "    print(e)\n",
    "    print(\"Unable to load 'Times New Roman' font. Continuing with default.\")\n",
    "\n",
    "f, ax = plt.subplots(1, 3, figsize=(8, 2), sharey=True, gridspec_kw={\"wspace\":0.1})\n",
    "\n",
    "for i in range(3):\n",
    "    ax[i].spines[\"top\"].set_visible(False)\n",
    "    ax[i].spines[\"right\"].set_visible(False)\n",
    "\n",
    "LABEL_FONTSIZE = 12\n",
    "\n",
    "plot_random_genes(replace_stats, ax[0], LABEL_FONTSIZE)\n",
    "\n",
    "plot_downsample(downsample_stats, ax[1], LABEL_FONTSIZE)\n",
    "\n",
    "plot_downgene(downgene_stats, ax[2], LABEL_FONTSIZE)\n",
    "\n",
    "abc = list(\"abc\")\n",
    "loc = [0, 50, 40]\n",
    "for i in range(3):\n",
    "    ax[i].axhline(downsample_stats[100][0], -100, 100, ls=\"dotted\", lw=1, color=\"orangered\", zorder=0)\n",
    "    ax[i].text(loc[i], 45, f\"{abc[i]})\", fontsize=LABEL_FONTSIZE+2)\n",
    "\n",
    "ax[0].set_ylim((0,50))\n",
    "ax[0].set_ylabel(\"$\\chi^2$ test statistic\", fontsize=LABEL_FONTSIZE)\n",
    "\n",
    "f.savefig(\"../figures/figure2.png\", dpi=300, bbox_inches=\"tight\")"
   ]
  }
 ],
 "metadata": {
  "interpreter": {
   "hash": "9f5352395dc74eae9e26a600fa5dc683b7348b5aa1917dac0571af5875225650"
  },
  "kernelspec": {
   "display_name": "Python 3.9.15 ('genesetranking')",
   "language": "python",
   "name": "python3"
  },
  "language_info": {
   "codemirror_mode": {
    "name": "ipython",
    "version": 3
   },
   "file_extension": ".py",
   "mimetype": "text/x-python",
   "name": "python",
   "nbconvert_exporter": "python",
   "pygments_lexer": "ipython3",
   "version": "3.9.15"
  },
  "orig_nbformat": 4
 },
 "nbformat": 4,
 "nbformat_minor": 2
}
